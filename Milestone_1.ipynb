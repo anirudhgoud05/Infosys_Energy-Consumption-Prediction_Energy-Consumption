{
  "cells": [
    {
      "cell_type": "code",
      "source": [],
      "metadata": {
        "id": "QAOIevGfb4zl"
      },
      "id": "QAOIevGfb4zl",
      "execution_count": null,
      "outputs": []
    },
    {
      "cell_type": "markdown",
      "id": "4466c2d5-2c17-4a7d-8715-fe3312c0a127",
      "metadata": {
        "id": "4466c2d5-2c17-4a7d-8715-fe3312c0a127"
      },
      "source": [
        "#  Prediction_Energy Consumption"
      ]
    },
    {
      "cell_type": "markdown",
      "id": "e7668332-4727-4160-865d-1b8aef5333ba",
      "metadata": {
        "id": "e7668332-4727-4160-865d-1b8aef5333ba"
      },
      "source": [
        "## Dataset Description:\n",
        "#### The \"Household Power Consumption\" dataset contains measurements of electric power consumption in a single household over a period of time. The data includes details recorded every minute from December 2006 to November 2010. Here's a detailed description of each column:\n",
        "\n",
        "## Dataset Overview:\n",
        "##### Rows: 2,075,259 (entries/records)\n",
        "##### Columns: 9 (attributes/features)\n",
        "##### Time Period: December 2006 - November 2010\n",
        "##### Granularity: Data is recorded every minute.\n",
        "### Column Descriptions:\n",
        "\n",
        "##### Date (object):\n",
        "\n",
        "The date of the observation in the format DD/MM/YYYY.\n",
        "\n",
        "##### Time (object):\n",
        "\n",
        "The time of the observation in the format HH:MM:SS.\n",
        "\n",
        "\n",
        "##### Global_active_power:\n",
        "\n",
        "Household global active power in kilowatts (kW).\n",
        "This refers to the total power consumed by the household appliances.\n",
        "\n",
        "##### Global_reactive_power:\n",
        "\n",
        "Household global reactive power in kilovolt-amperes reactive (kVAR).\n",
        "Reactive power is the portion of electricity that establishes and sustains the electric and magnetic fields of alternating current equipment (not useful power).\n",
        "\n",
        "##### Voltage:\n",
        "\n",
        "Voltage (in volts) supplied to the house during the given minute.\n",
        "\n",
        "##### Global_intensity:\n",
        "\n",
        "Current intensity in amperes (A).\n",
        "The total electrical current being drawn at that moment.\n",
        "\n",
        "##### Sub_metering_1:\n",
        "\n",
        "Energy sub-metering for the kitchen (in watt-hours of active energy).\n",
        "Example appliances: Dishwasher, oven, and microwave.\n",
        "\n",
        "##### Sub_metering_2:\n",
        "\n",
        "Energy sub-metering for the laundry room (in watt-hours of active energy).\n",
        "Example appliances: Washing machine, tumble dryer, refrigerator.\n",
        "\n",
        "##### Sub_metering_3:\n",
        "Energy sub-metering for electric water-heater and air-conditioning systems (in watt-hours of active energy)\n",
        "\n",
        "\n",
        "#### The dataset contains a few missing values, particularly in the Sub_metering_3 column (about 1.25% of the data)."
      ]
    },
    {
      "cell_type": "markdown",
      "id": "2d721768-802f-4cb6-a636-2391e6fed13a",
      "metadata": {
        "id": "2d721768-802f-4cb6-a636-2391e6fed13a"
      },
      "source": [
        "## Defining Problem Statement\n",
        "The goal is to analyze the household electric power consumption dataset and extract meaningful insights. This could involve understanding consumption patterns, identifying peak usage times, and predicting future power consumption"
      ]
    },
    {
      "cell_type": "markdown",
      "id": "88f84323-d4d4-4f33-9949-64f05d521cb3",
      "metadata": {
        "id": "88f84323-d4d4-4f33-9949-64f05d521cb3"
      },
      "source": [
        "### Import libraries and Load the dataset"
      ]
    },
    {
      "cell_type": "code",
      "execution_count": null,
      "id": "348deeea-9f59-4da1-93d8-6d9922d0531d",
      "metadata": {
        "id": "348deeea-9f59-4da1-93d8-6d9922d0531d"
      },
      "outputs": [],
      "source": [
        "import pandas as pd\n",
        "import numpy as np"
      ]
    },
    {
      "cell_type": "markdown",
      "id": "aba5a2ea-7ac0-4cc5-a75e-781fed73eb6d",
      "metadata": {
        "id": "aba5a2ea-7ac0-4cc5-a75e-781fed73eb6d"
      },
      "source": [
        "#### 2. Loading the Data"
      ]
    },
    {
      "cell_type": "markdown",
      "id": "2c372350-7a5f-4c62-a5f8-5ac4ca68b80d",
      "metadata": {
        "id": "2c372350-7a5f-4c62-a5f8-5ac4ca68b80d"
      },
      "source": [
        "Use Pandas to load the dataset from the .txt file. Since it's delimited by ; , specify the separator"
      ]
    },
    {
      "cell_type": "code",
      "execution_count": null,
      "id": "f5154aae-50e0-4f69-b6d8-a26358855955",
      "metadata": {
        "id": "f5154aae-50e0-4f69-b6d8-a26358855955",
        "outputId": "e3294970-9599-4e69-cda7-ad50a58098f2"
      },
      "outputs": [
        {
          "name": "stderr",
          "output_type": "stream",
          "text": [
            "C:\\Users\\hi\\AppData\\Local\\Temp\\ipykernel_16956\\3192474640.py:1: DtypeWarning: Columns (2,3,4,5,6,7) have mixed types. Specify dtype option on import or set low_memory=False.\n",
            "  df=pd.read_csv(r\"D:\\infosys\\household_power_consumption.txt\",sep=\";\")\n"
          ]
        },
        {
          "data": {
            "text/html": [
              "<div>\n",
              "<style scoped>\n",
              "    .dataframe tbody tr th:only-of-type {\n",
              "        vertical-align: middle;\n",
              "    }\n",
              "\n",
              "    .dataframe tbody tr th {\n",
              "        vertical-align: top;\n",
              "    }\n",
              "\n",
              "    .dataframe thead th {\n",
              "        text-align: right;\n",
              "    }\n",
              "</style>\n",
              "<table border=\"1\" class=\"dataframe\">\n",
              "  <thead>\n",
              "    <tr style=\"text-align: right;\">\n",
              "      <th></th>\n",
              "      <th>Date</th>\n",
              "      <th>Time</th>\n",
              "      <th>Global_active_power</th>\n",
              "      <th>Global_reactive_power</th>\n",
              "      <th>Voltage</th>\n",
              "      <th>Global_intensity</th>\n",
              "      <th>Sub_metering_1</th>\n",
              "      <th>Sub_metering_2</th>\n",
              "      <th>Sub_metering_3</th>\n",
              "    </tr>\n",
              "  </thead>\n",
              "  <tbody>\n",
              "    <tr>\n",
              "      <th>0</th>\n",
              "      <td>16/12/2006</td>\n",
              "      <td>17:24:00</td>\n",
              "      <td>4.216</td>\n",
              "      <td>0.418</td>\n",
              "      <td>234.840</td>\n",
              "      <td>18.400</td>\n",
              "      <td>0.000</td>\n",
              "      <td>1.000</td>\n",
              "      <td>17.0</td>\n",
              "    </tr>\n",
              "    <tr>\n",
              "      <th>1</th>\n",
              "      <td>16/12/2006</td>\n",
              "      <td>17:25:00</td>\n",
              "      <td>5.360</td>\n",
              "      <td>0.436</td>\n",
              "      <td>233.630</td>\n",
              "      <td>23.000</td>\n",
              "      <td>0.000</td>\n",
              "      <td>1.000</td>\n",
              "      <td>16.0</td>\n",
              "    </tr>\n",
              "    <tr>\n",
              "      <th>2</th>\n",
              "      <td>16/12/2006</td>\n",
              "      <td>17:26:00</td>\n",
              "      <td>5.374</td>\n",
              "      <td>0.498</td>\n",
              "      <td>233.290</td>\n",
              "      <td>23.000</td>\n",
              "      <td>0.000</td>\n",
              "      <td>2.000</td>\n",
              "      <td>17.0</td>\n",
              "    </tr>\n",
              "    <tr>\n",
              "      <th>3</th>\n",
              "      <td>16/12/2006</td>\n",
              "      <td>17:27:00</td>\n",
              "      <td>5.388</td>\n",
              "      <td>0.502</td>\n",
              "      <td>233.740</td>\n",
              "      <td>23.000</td>\n",
              "      <td>0.000</td>\n",
              "      <td>1.000</td>\n",
              "      <td>17.0</td>\n",
              "    </tr>\n",
              "    <tr>\n",
              "      <th>4</th>\n",
              "      <td>16/12/2006</td>\n",
              "      <td>17:28:00</td>\n",
              "      <td>3.666</td>\n",
              "      <td>0.528</td>\n",
              "      <td>235.680</td>\n",
              "      <td>15.800</td>\n",
              "      <td>0.000</td>\n",
              "      <td>1.000</td>\n",
              "      <td>17.0</td>\n",
              "    </tr>\n",
              "    <tr>\n",
              "      <th>...</th>\n",
              "      <td>...</td>\n",
              "      <td>...</td>\n",
              "      <td>...</td>\n",
              "      <td>...</td>\n",
              "      <td>...</td>\n",
              "      <td>...</td>\n",
              "      <td>...</td>\n",
              "      <td>...</td>\n",
              "      <td>...</td>\n",
              "    </tr>\n",
              "    <tr>\n",
              "      <th>2075254</th>\n",
              "      <td>26/11/2010</td>\n",
              "      <td>20:58:00</td>\n",
              "      <td>0.946</td>\n",
              "      <td>0.0</td>\n",
              "      <td>240.43</td>\n",
              "      <td>4.0</td>\n",
              "      <td>0.0</td>\n",
              "      <td>0.0</td>\n",
              "      <td>0.0</td>\n",
              "    </tr>\n",
              "    <tr>\n",
              "      <th>2075255</th>\n",
              "      <td>26/11/2010</td>\n",
              "      <td>20:59:00</td>\n",
              "      <td>0.944</td>\n",
              "      <td>0.0</td>\n",
              "      <td>240.0</td>\n",
              "      <td>4.0</td>\n",
              "      <td>0.0</td>\n",
              "      <td>0.0</td>\n",
              "      <td>0.0</td>\n",
              "    </tr>\n",
              "    <tr>\n",
              "      <th>2075256</th>\n",
              "      <td>26/11/2010</td>\n",
              "      <td>21:00:00</td>\n",
              "      <td>0.938</td>\n",
              "      <td>0.0</td>\n",
              "      <td>239.82</td>\n",
              "      <td>3.8</td>\n",
              "      <td>0.0</td>\n",
              "      <td>0.0</td>\n",
              "      <td>0.0</td>\n",
              "    </tr>\n",
              "    <tr>\n",
              "      <th>2075257</th>\n",
              "      <td>26/11/2010</td>\n",
              "      <td>21:01:00</td>\n",
              "      <td>0.934</td>\n",
              "      <td>0.0</td>\n",
              "      <td>239.7</td>\n",
              "      <td>3.8</td>\n",
              "      <td>0.0</td>\n",
              "      <td>0.0</td>\n",
              "      <td>0.0</td>\n",
              "    </tr>\n",
              "    <tr>\n",
              "      <th>2075258</th>\n",
              "      <td>26/11/2010</td>\n",
              "      <td>21:02:00</td>\n",
              "      <td>0.932</td>\n",
              "      <td>0.0</td>\n",
              "      <td>239.55</td>\n",
              "      <td>3.8</td>\n",
              "      <td>0.0</td>\n",
              "      <td>0.0</td>\n",
              "      <td>0.0</td>\n",
              "    </tr>\n",
              "  </tbody>\n",
              "</table>\n",
              "<p>2075259 rows × 9 columns</p>\n",
              "</div>"
            ],
            "text/plain": [
              "               Date      Time Global_active_power Global_reactive_power  \\\n",
              "0        16/12/2006  17:24:00               4.216                 0.418   \n",
              "1        16/12/2006  17:25:00               5.360                 0.436   \n",
              "2        16/12/2006  17:26:00               5.374                 0.498   \n",
              "3        16/12/2006  17:27:00               5.388                 0.502   \n",
              "4        16/12/2006  17:28:00               3.666                 0.528   \n",
              "...             ...       ...                 ...                   ...   \n",
              "2075254  26/11/2010  20:58:00               0.946                   0.0   \n",
              "2075255  26/11/2010  20:59:00               0.944                   0.0   \n",
              "2075256  26/11/2010  21:00:00               0.938                   0.0   \n",
              "2075257  26/11/2010  21:01:00               0.934                   0.0   \n",
              "2075258  26/11/2010  21:02:00               0.932                   0.0   \n",
              "\n",
              "         Voltage Global_intensity Sub_metering_1 Sub_metering_2  \\\n",
              "0        234.840           18.400          0.000          1.000   \n",
              "1        233.630           23.000          0.000          1.000   \n",
              "2        233.290           23.000          0.000          2.000   \n",
              "3        233.740           23.000          0.000          1.000   \n",
              "4        235.680           15.800          0.000          1.000   \n",
              "...          ...              ...            ...            ...   \n",
              "2075254   240.43              4.0            0.0            0.0   \n",
              "2075255    240.0              4.0            0.0            0.0   \n",
              "2075256   239.82              3.8            0.0            0.0   \n",
              "2075257    239.7              3.8            0.0            0.0   \n",
              "2075258   239.55              3.8            0.0            0.0   \n",
              "\n",
              "         Sub_metering_3  \n",
              "0                  17.0  \n",
              "1                  16.0  \n",
              "2                  17.0  \n",
              "3                  17.0  \n",
              "4                  17.0  \n",
              "...                 ...  \n",
              "2075254             0.0  \n",
              "2075255             0.0  \n",
              "2075256             0.0  \n",
              "2075257             0.0  \n",
              "2075258             0.0  \n",
              "\n",
              "[2075259 rows x 9 columns]"
            ]
          },
          "execution_count": 67,
          "metadata": {},
          "output_type": "execute_result"
        }
      ],
      "source": [
        "df=pd.read_csv(r\"D:\\infosys\\household_power_consumption.txt\",sep=\";\")\n",
        "df"
      ]
    },
    {
      "cell_type": "markdown",
      "id": "e17c9d55-6e1d-4ab2-8ca5-352941d22e01",
      "metadata": {
        "id": "e17c9d55-6e1d-4ab2-8ca5-352941d22e01"
      },
      "source": [
        "### 3.  Data Exploration\n",
        "Check the shape and column information of the dataset to understand the data types and structure."
      ]
    },
    {
      "cell_type": "markdown",
      "id": "87572c6d-b8e0-4297-85ec-beb0b16f254d",
      "metadata": {
        "id": "87572c6d-b8e0-4297-85ec-beb0b16f254d"
      },
      "source": [
        "#### df.info()\n",
        "It Provides concise information about the DataFrame, including the number of non-null values, the data type of each column, and memory usage.\n",
        "\n"
      ]
    },
    {
      "cell_type": "code",
      "execution_count": null,
      "id": "450f2242-ef84-42db-9750-dfc70994b028",
      "metadata": {
        "id": "450f2242-ef84-42db-9750-dfc70994b028",
        "outputId": "e0d3f9d1-a10d-42a3-9dc7-ea34865cce2f"
      },
      "outputs": [
        {
          "name": "stdout",
          "output_type": "stream",
          "text": [
            "<class 'pandas.core.frame.DataFrame'>\n",
            "RangeIndex: 2075259 entries, 0 to 2075258\n",
            "Data columns (total 9 columns):\n",
            " #   Column                 Dtype  \n",
            "---  ------                 -----  \n",
            " 0   Date                   object \n",
            " 1   Time                   object \n",
            " 2   Global_active_power    object \n",
            " 3   Global_reactive_power  object \n",
            " 4   Voltage                object \n",
            " 5   Global_intensity       object \n",
            " 6   Sub_metering_1         object \n",
            " 7   Sub_metering_2         object \n",
            " 8   Sub_metering_3         float64\n",
            "dtypes: float64(1), object(8)\n",
            "memory usage: 142.5+ MB\n"
          ]
        }
      ],
      "source": [
        "df.info()"
      ]
    },
    {
      "cell_type": "markdown",
      "id": "dd4abdca-d2fc-4419-8d07-23ae29b3ad5b",
      "metadata": {
        "id": "dd4abdca-d2fc-4419-8d07-23ae29b3ad5b"
      },
      "source": [
        "### Converting all columns to dtype"
      ]
    },
    {
      "cell_type": "code",
      "execution_count": null,
      "id": "5c2b10fd-8e84-4eca-8db0-f7067821789b",
      "metadata": {
        "id": "5c2b10fd-8e84-4eca-8db0-f7067821789b",
        "outputId": "b10262f1-2bdb-4119-c0ef-b5c96a0e5e72"
      },
      "outputs": [
        {
          "name": "stdout",
          "output_type": "stream",
          "text": [
            "<class 'pandas.core.frame.DataFrame'>\n",
            "RangeIndex: 2075259 entries, 0 to 2075258\n",
            "Data columns (total 9 columns):\n",
            " #   Column                 Dtype  \n",
            "---  ------                 -----  \n",
            " 0   Date                   object \n",
            " 1   Time                   object \n",
            " 2   Global_active_power    float64\n",
            " 3   Global_reactive_power  float64\n",
            " 4   Voltage                float64\n",
            " 5   Global_intensity       float64\n",
            " 6   Sub_metering_1         float64\n",
            " 7   Sub_metering_2         float64\n",
            " 8   Sub_metering_3         float64\n",
            "dtypes: float64(7), object(2)\n",
            "memory usage: 142.5+ MB\n"
          ]
        }
      ],
      "source": [
        "df['Global_active_power'] = pd.to_numeric(df['Global_active_power'],errors = 'coerce')\n",
        "df['Global_reactive_power'] = pd.to_numeric(df['Global_reactive_power'],errors = 'coerce')\n",
        "df['Voltage'] = pd.to_numeric(df['Voltage'],errors = 'coerce')\n",
        "df['Global_intensity'] = pd.to_numeric(df['Global_intensity'],errors = 'coerce')\n",
        "df['Sub_metering_1'] = pd.to_numeric(df['Sub_metering_1'],errors = 'coerce')\n",
        "df['Sub_metering_2'] = pd.to_numeric(df['Sub_metering_2'],errors = 'coerce')\n",
        "df['Sub_metering_3'] = pd.to_numeric(df['Sub_metering_3'],errors = 'coerce')\n",
        "\n",
        "df.info()\n",
        ""
      ]
    },
    {
      "cell_type": "markdown",
      "id": "f89dd07b-f37a-4779-85f2-8693a0b4c640",
      "metadata": {
        "id": "f89dd07b-f37a-4779-85f2-8693a0b4c640"
      },
      "source": [
        "### df.head()\n",
        "It Displays the first 5 rows of the DataFrame by default, though you can specify any number of rows to display.\n"
      ]
    },
    {
      "cell_type": "code",
      "execution_count": null,
      "id": "12dade08-d2aa-49f3-8f2e-18cc29ae2d6b",
      "metadata": {
        "id": "12dade08-d2aa-49f3-8f2e-18cc29ae2d6b",
        "outputId": "bf34bf69-045f-4cc7-e9e5-d3f7d41a2ce4"
      },
      "outputs": [
        {
          "data": {
            "text/html": [
              "<div>\n",
              "<style scoped>\n",
              "    .dataframe tbody tr th:only-of-type {\n",
              "        vertical-align: middle;\n",
              "    }\n",
              "\n",
              "    .dataframe tbody tr th {\n",
              "        vertical-align: top;\n",
              "    }\n",
              "\n",
              "    .dataframe thead th {\n",
              "        text-align: right;\n",
              "    }\n",
              "</style>\n",
              "<table border=\"1\" class=\"dataframe\">\n",
              "  <thead>\n",
              "    <tr style=\"text-align: right;\">\n",
              "      <th></th>\n",
              "      <th>Date</th>\n",
              "      <th>Time</th>\n",
              "      <th>Global_active_power</th>\n",
              "      <th>Global_reactive_power</th>\n",
              "      <th>Voltage</th>\n",
              "      <th>Global_intensity</th>\n",
              "      <th>Sub_metering_1</th>\n",
              "      <th>Sub_metering_2</th>\n",
              "      <th>Sub_metering_3</th>\n",
              "    </tr>\n",
              "  </thead>\n",
              "  <tbody>\n",
              "    <tr>\n",
              "      <th>0</th>\n",
              "      <td>16/12/2006</td>\n",
              "      <td>17:24:00</td>\n",
              "      <td>4.216</td>\n",
              "      <td>0.418</td>\n",
              "      <td>234.84</td>\n",
              "      <td>18.4</td>\n",
              "      <td>0.0</td>\n",
              "      <td>1.0</td>\n",
              "      <td>17.0</td>\n",
              "    </tr>\n",
              "    <tr>\n",
              "      <th>1</th>\n",
              "      <td>16/12/2006</td>\n",
              "      <td>17:25:00</td>\n",
              "      <td>5.360</td>\n",
              "      <td>0.436</td>\n",
              "      <td>233.63</td>\n",
              "      <td>23.0</td>\n",
              "      <td>0.0</td>\n",
              "      <td>1.0</td>\n",
              "      <td>16.0</td>\n",
              "    </tr>\n",
              "    <tr>\n",
              "      <th>2</th>\n",
              "      <td>16/12/2006</td>\n",
              "      <td>17:26:00</td>\n",
              "      <td>5.374</td>\n",
              "      <td>0.498</td>\n",
              "      <td>233.29</td>\n",
              "      <td>23.0</td>\n",
              "      <td>0.0</td>\n",
              "      <td>2.0</td>\n",
              "      <td>17.0</td>\n",
              "    </tr>\n",
              "    <tr>\n",
              "      <th>3</th>\n",
              "      <td>16/12/2006</td>\n",
              "      <td>17:27:00</td>\n",
              "      <td>5.388</td>\n",
              "      <td>0.502</td>\n",
              "      <td>233.74</td>\n",
              "      <td>23.0</td>\n",
              "      <td>0.0</td>\n",
              "      <td>1.0</td>\n",
              "      <td>17.0</td>\n",
              "    </tr>\n",
              "    <tr>\n",
              "      <th>4</th>\n",
              "      <td>16/12/2006</td>\n",
              "      <td>17:28:00</td>\n",
              "      <td>3.666</td>\n",
              "      <td>0.528</td>\n",
              "      <td>235.68</td>\n",
              "      <td>15.8</td>\n",
              "      <td>0.0</td>\n",
              "      <td>1.0</td>\n",
              "      <td>17.0</td>\n",
              "    </tr>\n",
              "  </tbody>\n",
              "</table>\n",
              "</div>"
            ],
            "text/plain": [
              "         Date      Time  Global_active_power  Global_reactive_power  Voltage  \\\n",
              "0  16/12/2006  17:24:00                4.216                  0.418   234.84   \n",
              "1  16/12/2006  17:25:00                5.360                  0.436   233.63   \n",
              "2  16/12/2006  17:26:00                5.374                  0.498   233.29   \n",
              "3  16/12/2006  17:27:00                5.388                  0.502   233.74   \n",
              "4  16/12/2006  17:28:00                3.666                  0.528   235.68   \n",
              "\n",
              "   Global_intensity  Sub_metering_1  Sub_metering_2  Sub_metering_3  \n",
              "0              18.4             0.0             1.0            17.0  \n",
              "1              23.0             0.0             1.0            16.0  \n",
              "2              23.0             0.0             2.0            17.0  \n",
              "3              23.0             0.0             1.0            17.0  \n",
              "4              15.8             0.0             1.0            17.0  "
            ]
          },
          "execution_count": 70,
          "metadata": {},
          "output_type": "execute_result"
        }
      ],
      "source": [
        "df.head()"
      ]
    },
    {
      "cell_type": "markdown",
      "id": "c2681976-b55c-4c42-a648-bdb8729c3291",
      "metadata": {
        "id": "c2681976-b55c-4c42-a648-bdb8729c3291"
      },
      "source": [
        "### df.tail()\n",
        "It Displays the last 5 rows of the DataFrame by default, but you can specify the number of rows.\n",
        "\n"
      ]
    },
    {
      "cell_type": "code",
      "execution_count": null,
      "id": "1e392bda-66ad-455b-94dc-86818d155001",
      "metadata": {
        "id": "1e392bda-66ad-455b-94dc-86818d155001",
        "outputId": "6abfe94d-e035-4eba-b8a7-ab1ff20d755a"
      },
      "outputs": [
        {
          "data": {
            "text/html": [
              "<div>\n",
              "<style scoped>\n",
              "    .dataframe tbody tr th:only-of-type {\n",
              "        vertical-align: middle;\n",
              "    }\n",
              "\n",
              "    .dataframe tbody tr th {\n",
              "        vertical-align: top;\n",
              "    }\n",
              "\n",
              "    .dataframe thead th {\n",
              "        text-align: right;\n",
              "    }\n",
              "</style>\n",
              "<table border=\"1\" class=\"dataframe\">\n",
              "  <thead>\n",
              "    <tr style=\"text-align: right;\">\n",
              "      <th></th>\n",
              "      <th>Date</th>\n",
              "      <th>Time</th>\n",
              "      <th>Global_active_power</th>\n",
              "      <th>Global_reactive_power</th>\n",
              "      <th>Voltage</th>\n",
              "      <th>Global_intensity</th>\n",
              "      <th>Sub_metering_1</th>\n",
              "      <th>Sub_metering_2</th>\n",
              "      <th>Sub_metering_3</th>\n",
              "    </tr>\n",
              "  </thead>\n",
              "  <tbody>\n",
              "    <tr>\n",
              "      <th>2075254</th>\n",
              "      <td>26/11/2010</td>\n",
              "      <td>20:58:00</td>\n",
              "      <td>0.946</td>\n",
              "      <td>0.0</td>\n",
              "      <td>240.43</td>\n",
              "      <td>4.0</td>\n",
              "      <td>0.0</td>\n",
              "      <td>0.0</td>\n",
              "      <td>0.0</td>\n",
              "    </tr>\n",
              "    <tr>\n",
              "      <th>2075255</th>\n",
              "      <td>26/11/2010</td>\n",
              "      <td>20:59:00</td>\n",
              "      <td>0.944</td>\n",
              "      <td>0.0</td>\n",
              "      <td>240.00</td>\n",
              "      <td>4.0</td>\n",
              "      <td>0.0</td>\n",
              "      <td>0.0</td>\n",
              "      <td>0.0</td>\n",
              "    </tr>\n",
              "    <tr>\n",
              "      <th>2075256</th>\n",
              "      <td>26/11/2010</td>\n",
              "      <td>21:00:00</td>\n",
              "      <td>0.938</td>\n",
              "      <td>0.0</td>\n",
              "      <td>239.82</td>\n",
              "      <td>3.8</td>\n",
              "      <td>0.0</td>\n",
              "      <td>0.0</td>\n",
              "      <td>0.0</td>\n",
              "    </tr>\n",
              "    <tr>\n",
              "      <th>2075257</th>\n",
              "      <td>26/11/2010</td>\n",
              "      <td>21:01:00</td>\n",
              "      <td>0.934</td>\n",
              "      <td>0.0</td>\n",
              "      <td>239.70</td>\n",
              "      <td>3.8</td>\n",
              "      <td>0.0</td>\n",
              "      <td>0.0</td>\n",
              "      <td>0.0</td>\n",
              "    </tr>\n",
              "    <tr>\n",
              "      <th>2075258</th>\n",
              "      <td>26/11/2010</td>\n",
              "      <td>21:02:00</td>\n",
              "      <td>0.932</td>\n",
              "      <td>0.0</td>\n",
              "      <td>239.55</td>\n",
              "      <td>3.8</td>\n",
              "      <td>0.0</td>\n",
              "      <td>0.0</td>\n",
              "      <td>0.0</td>\n",
              "    </tr>\n",
              "  </tbody>\n",
              "</table>\n",
              "</div>"
            ],
            "text/plain": [
              "               Date      Time  Global_active_power  Global_reactive_power  \\\n",
              "2075254  26/11/2010  20:58:00                0.946                    0.0   \n",
              "2075255  26/11/2010  20:59:00                0.944                    0.0   \n",
              "2075256  26/11/2010  21:00:00                0.938                    0.0   \n",
              "2075257  26/11/2010  21:01:00                0.934                    0.0   \n",
              "2075258  26/11/2010  21:02:00                0.932                    0.0   \n",
              "\n",
              "         Voltage  Global_intensity  Sub_metering_1  Sub_metering_2  \\\n",
              "2075254   240.43               4.0             0.0             0.0   \n",
              "2075255   240.00               4.0             0.0             0.0   \n",
              "2075256   239.82               3.8             0.0             0.0   \n",
              "2075257   239.70               3.8             0.0             0.0   \n",
              "2075258   239.55               3.8             0.0             0.0   \n",
              "\n",
              "         Sub_metering_3  \n",
              "2075254             0.0  \n",
              "2075255             0.0  \n",
              "2075256             0.0  \n",
              "2075257             0.0  \n",
              "2075258             0.0  "
            ]
          },
          "execution_count": 71,
          "metadata": {},
          "output_type": "execute_result"
        }
      ],
      "source": [
        "df.tail()"
      ]
    },
    {
      "cell_type": "markdown",
      "id": "92c219d5-c085-4a5c-a572-ba1c21faf21d",
      "metadata": {
        "id": "92c219d5-c085-4a5c-a572-ba1c21faf21d"
      },
      "source": [
        "## df.shape\n",
        "It Provides the dimensions of the DataFrame as a tuple (rows, columns).\n",
        "\n",
        "Quick check to know the number of rows and columns in the dataset\n",
        "from the dataset we can observe there are 2075259 columns and 9 rows"
      ]
    },
    {
      "cell_type": "code",
      "execution_count": null,
      "id": "dd0772dd-f424-49a0-9e61-785385284bdf",
      "metadata": {
        "id": "dd0772dd-f424-49a0-9e61-785385284bdf",
        "outputId": "eb292637-2eba-4bba-e358-47c244405fb9"
      },
      "outputs": [
        {
          "data": {
            "text/plain": [
              "(2075259, 9)"
            ]
          },
          "execution_count": 72,
          "metadata": {},
          "output_type": "execute_result"
        }
      ],
      "source": [
        "df.shape"
      ]
    },
    {
      "cell_type": "markdown",
      "id": "5babf2d1-7d1b-4ec4-a1fc-3ea8be8a3d24",
      "metadata": {
        "id": "5babf2d1-7d1b-4ec4-a1fc-3ea8be8a3d24"
      },
      "source": [
        "### df.columns\n",
        "Lists all column names in the DataFrame."
      ]
    },
    {
      "cell_type": "code",
      "execution_count": null,
      "id": "b2b6c50f-67ab-4a84-9466-22e0fb07cf09",
      "metadata": {
        "id": "b2b6c50f-67ab-4a84-9466-22e0fb07cf09",
        "outputId": "75020b0a-d736-4f8c-86a7-0b76ae5ac171"
      },
      "outputs": [
        {
          "data": {
            "text/plain": [
              "Index(['Date', 'Time', 'Global_active_power', 'Global_reactive_power',\n",
              "       'Voltage', 'Global_intensity', 'Sub_metering_1', 'Sub_metering_2',\n",
              "       'Sub_metering_3'],\n",
              "      dtype='object')"
            ]
          },
          "execution_count": 73,
          "metadata": {},
          "output_type": "execute_result"
        }
      ],
      "source": [
        "df.columns"
      ]
    },
    {
      "cell_type": "markdown",
      "id": "6bba08c4-24e8-4224-8ecf-5b11d32df1bb",
      "metadata": {
        "id": "6bba08c4-24e8-4224-8ecf-5b11d32df1bb"
      },
      "source": [
        "### df.describe()\n",
        "This function provides summary statistics for the numerical columns in the dataset.\n",
        "\n",
        "###### Count: The number of non-null values.\n",
        "\n",
        "##### Mean: The average of the column.\n",
        "\n",
        "##### Standard Deviation (std): Shows how much the values deviate from the mean.\n",
        "\n",
        "Min, 25th percentile, 50th percentile (median), 75th percentile, Max: These values help in understanding the spread and distribution of the data."
      ]
    },
    {
      "cell_type": "code",
      "execution_count": null,
      "id": "00dbab7c-9963-4955-92b6-e5b6ced1b49e",
      "metadata": {
        "id": "00dbab7c-9963-4955-92b6-e5b6ced1b49e",
        "outputId": "48e866d6-ba05-4aeb-e43f-2cce1cb82a0d"
      },
      "outputs": [
        {
          "data": {
            "text/html": [
              "<div>\n",
              "<style scoped>\n",
              "    .dataframe tbody tr th:only-of-type {\n",
              "        vertical-align: middle;\n",
              "    }\n",
              "\n",
              "    .dataframe tbody tr th {\n",
              "        vertical-align: top;\n",
              "    }\n",
              "\n",
              "    .dataframe thead th {\n",
              "        text-align: right;\n",
              "    }\n",
              "</style>\n",
              "<table border=\"1\" class=\"dataframe\">\n",
              "  <thead>\n",
              "    <tr style=\"text-align: right;\">\n",
              "      <th></th>\n",
              "      <th>Global_active_power</th>\n",
              "      <th>Global_reactive_power</th>\n",
              "      <th>Voltage</th>\n",
              "      <th>Global_intensity</th>\n",
              "      <th>Sub_metering_1</th>\n",
              "      <th>Sub_metering_2</th>\n",
              "      <th>Sub_metering_3</th>\n",
              "    </tr>\n",
              "  </thead>\n",
              "  <tbody>\n",
              "    <tr>\n",
              "      <th>count</th>\n",
              "      <td>2.049280e+06</td>\n",
              "      <td>2.049280e+06</td>\n",
              "      <td>2.049280e+06</td>\n",
              "      <td>2.049280e+06</td>\n",
              "      <td>2.049280e+06</td>\n",
              "      <td>2.049280e+06</td>\n",
              "      <td>2.049280e+06</td>\n",
              "    </tr>\n",
              "    <tr>\n",
              "      <th>mean</th>\n",
              "      <td>1.091615e+00</td>\n",
              "      <td>1.237145e-01</td>\n",
              "      <td>2.408399e+02</td>\n",
              "      <td>4.627759e+00</td>\n",
              "      <td>1.121923e+00</td>\n",
              "      <td>1.298520e+00</td>\n",
              "      <td>6.458447e+00</td>\n",
              "    </tr>\n",
              "    <tr>\n",
              "      <th>std</th>\n",
              "      <td>1.057294e+00</td>\n",
              "      <td>1.127220e-01</td>\n",
              "      <td>3.239987e+00</td>\n",
              "      <td>4.444396e+00</td>\n",
              "      <td>6.153031e+00</td>\n",
              "      <td>5.822026e+00</td>\n",
              "      <td>8.437154e+00</td>\n",
              "    </tr>\n",
              "    <tr>\n",
              "      <th>min</th>\n",
              "      <td>7.600000e-02</td>\n",
              "      <td>0.000000e+00</td>\n",
              "      <td>2.232000e+02</td>\n",
              "      <td>2.000000e-01</td>\n",
              "      <td>0.000000e+00</td>\n",
              "      <td>0.000000e+00</td>\n",
              "      <td>0.000000e+00</td>\n",
              "    </tr>\n",
              "    <tr>\n",
              "      <th>25%</th>\n",
              "      <td>3.080000e-01</td>\n",
              "      <td>4.800000e-02</td>\n",
              "      <td>2.389900e+02</td>\n",
              "      <td>1.400000e+00</td>\n",
              "      <td>0.000000e+00</td>\n",
              "      <td>0.000000e+00</td>\n",
              "      <td>0.000000e+00</td>\n",
              "    </tr>\n",
              "    <tr>\n",
              "      <th>50%</th>\n",
              "      <td>6.020000e-01</td>\n",
              "      <td>1.000000e-01</td>\n",
              "      <td>2.410100e+02</td>\n",
              "      <td>2.600000e+00</td>\n",
              "      <td>0.000000e+00</td>\n",
              "      <td>0.000000e+00</td>\n",
              "      <td>1.000000e+00</td>\n",
              "    </tr>\n",
              "    <tr>\n",
              "      <th>75%</th>\n",
              "      <td>1.528000e+00</td>\n",
              "      <td>1.940000e-01</td>\n",
              "      <td>2.428900e+02</td>\n",
              "      <td>6.400000e+00</td>\n",
              "      <td>0.000000e+00</td>\n",
              "      <td>1.000000e+00</td>\n",
              "      <td>1.700000e+01</td>\n",
              "    </tr>\n",
              "    <tr>\n",
              "      <th>max</th>\n",
              "      <td>1.112200e+01</td>\n",
              "      <td>1.390000e+00</td>\n",
              "      <td>2.541500e+02</td>\n",
              "      <td>4.840000e+01</td>\n",
              "      <td>8.800000e+01</td>\n",
              "      <td>8.000000e+01</td>\n",
              "      <td>3.100000e+01</td>\n",
              "    </tr>\n",
              "  </tbody>\n",
              "</table>\n",
              "</div>"
            ],
            "text/plain": [
              "       Global_active_power  Global_reactive_power       Voltage  \\\n",
              "count         2.049280e+06           2.049280e+06  2.049280e+06   \n",
              "mean          1.091615e+00           1.237145e-01  2.408399e+02   \n",
              "std           1.057294e+00           1.127220e-01  3.239987e+00   \n",
              "min           7.600000e-02           0.000000e+00  2.232000e+02   \n",
              "25%           3.080000e-01           4.800000e-02  2.389900e+02   \n",
              "50%           6.020000e-01           1.000000e-01  2.410100e+02   \n",
              "75%           1.528000e+00           1.940000e-01  2.428900e+02   \n",
              "max           1.112200e+01           1.390000e+00  2.541500e+02   \n",
              "\n",
              "       Global_intensity  Sub_metering_1  Sub_metering_2  Sub_metering_3  \n",
              "count      2.049280e+06    2.049280e+06    2.049280e+06    2.049280e+06  \n",
              "mean       4.627759e+00    1.121923e+00    1.298520e+00    6.458447e+00  \n",
              "std        4.444396e+00    6.153031e+00    5.822026e+00    8.437154e+00  \n",
              "min        2.000000e-01    0.000000e+00    0.000000e+00    0.000000e+00  \n",
              "25%        1.400000e+00    0.000000e+00    0.000000e+00    0.000000e+00  \n",
              "50%        2.600000e+00    0.000000e+00    0.000000e+00    1.000000e+00  \n",
              "75%        6.400000e+00    0.000000e+00    1.000000e+00    1.700000e+01  \n",
              "max        4.840000e+01    8.800000e+01    8.000000e+01    3.100000e+01  "
            ]
          },
          "execution_count": 74,
          "metadata": {},
          "output_type": "execute_result"
        }
      ],
      "source": [
        "df.describe()"
      ]
    },
    {
      "cell_type": "markdown",
      "id": "cc1b9144-a27d-4922-8bb5-a6a67571e185",
      "metadata": {
        "id": "cc1b9144-a27d-4922-8bb5-a6a67571e185"
      },
      "source": [
        "### df.describe(include=\"object\")\n",
        "\n",
        "This function helps you analyze categorical or non-numeric data. When applied to object-type columns, it summarizes these columns by providing- count, unique,top,freq.\n",
        "\n"
      ]
    },
    {
      "cell_type": "code",
      "execution_count": null,
      "id": "0c6f25f9-5f3a-4375-ad19-4655603d9861",
      "metadata": {
        "id": "0c6f25f9-5f3a-4375-ad19-4655603d9861",
        "outputId": "29361c1c-0b52-4655-b506-7ed95c6cac07"
      },
      "outputs": [
        {
          "data": {
            "text/html": [
              "<div>\n",
              "<style scoped>\n",
              "    .dataframe tbody tr th:only-of-type {\n",
              "        vertical-align: middle;\n",
              "    }\n",
              "\n",
              "    .dataframe tbody tr th {\n",
              "        vertical-align: top;\n",
              "    }\n",
              "\n",
              "    .dataframe thead th {\n",
              "        text-align: right;\n",
              "    }\n",
              "</style>\n",
              "<table border=\"1\" class=\"dataframe\">\n",
              "  <thead>\n",
              "    <tr style=\"text-align: right;\">\n",
              "      <th></th>\n",
              "      <th>Date</th>\n",
              "      <th>Time</th>\n",
              "    </tr>\n",
              "  </thead>\n",
              "  <tbody>\n",
              "    <tr>\n",
              "      <th>count</th>\n",
              "      <td>2075259</td>\n",
              "      <td>2075259</td>\n",
              "    </tr>\n",
              "    <tr>\n",
              "      <th>unique</th>\n",
              "      <td>1442</td>\n",
              "      <td>1440</td>\n",
              "    </tr>\n",
              "    <tr>\n",
              "      <th>top</th>\n",
              "      <td>6/12/2008</td>\n",
              "      <td>17:24:00</td>\n",
              "    </tr>\n",
              "    <tr>\n",
              "      <th>freq</th>\n",
              "      <td>1440</td>\n",
              "      <td>1442</td>\n",
              "    </tr>\n",
              "  </tbody>\n",
              "</table>\n",
              "</div>"
            ],
            "text/plain": [
              "             Date      Time\n",
              "count     2075259   2075259\n",
              "unique       1442      1440\n",
              "top     6/12/2008  17:24:00\n",
              "freq         1440      1442"
            ]
          },
          "execution_count": 75,
          "metadata": {},
          "output_type": "execute_result"
        }
      ],
      "source": [
        "df.describe(include=\"object\")"
      ]
    },
    {
      "cell_type": "markdown",
      "id": "924b025e-889a-470d-bb1b-8dc10e8feaf8",
      "metadata": {
        "id": "924b025e-889a-470d-bb1b-8dc10e8feaf8"
      },
      "source": [
        "### Checking for Null Values\n",
        "df.isnull() checks if there are any missing values in each cell, and df.isnull().sum() returns the number of missing values per column.\n",
        "\n"
      ]
    },
    {
      "cell_type": "code",
      "execution_count": null,
      "id": "291cd569-4e70-413f-84d7-4f0d1fce58ba",
      "metadata": {
        "id": "291cd569-4e70-413f-84d7-4f0d1fce58ba",
        "outputId": "5b5ce6e5-c08f-448f-93a4-084e1d7de646"
      },
      "outputs": [
        {
          "data": {
            "text/plain": [
              "Date                     False\n",
              "Time                     False\n",
              "Global_active_power       True\n",
              "Global_reactive_power     True\n",
              "Voltage                   True\n",
              "Global_intensity          True\n",
              "Sub_metering_1            True\n",
              "Sub_metering_2            True\n",
              "Sub_metering_3            True\n",
              "dtype: bool"
            ]
          },
          "execution_count": 76,
          "metadata": {},
          "output_type": "execute_result"
        }
      ],
      "source": [
        "df.isnull().any()"
      ]
    },
    {
      "cell_type": "code",
      "execution_count": null,
      "id": "6a953e18-0f40-460f-8f0b-44c24e5e3a6e",
      "metadata": {
        "id": "6a953e18-0f40-460f-8f0b-44c24e5e3a6e",
        "outputId": "55b9bad6-01d5-4c77-e58f-12f5d5484fd8"
      },
      "outputs": [
        {
          "data": {
            "text/plain": [
              "Date                         0\n",
              "Time                         0\n",
              "Global_active_power      25979\n",
              "Global_reactive_power    25979\n",
              "Voltage                  25979\n",
              "Global_intensity         25979\n",
              "Sub_metering_1           25979\n",
              "Sub_metering_2           25979\n",
              "Sub_metering_3           25979\n",
              "dtype: int64"
            ]
          },
          "execution_count": 77,
          "metadata": {},
          "output_type": "execute_result"
        }
      ],
      "source": [
        "df.isnull().sum()"
      ]
    },
    {
      "cell_type": "markdown",
      "id": "6c4ccdd1-2fda-4f5c-81d8-84f0067850f5",
      "metadata": {
        "id": "6c4ccdd1-2fda-4f5c-81d8-84f0067850f5"
      },
      "source": [
        "## null_percentage\n",
        "This will help us to check the percentage of missing values for each column in the DataFrame"
      ]
    },
    {
      "cell_type": "code",
      "execution_count": null,
      "id": "4cfe230f-80ba-46d4-a8b8-e74c281a0010",
      "metadata": {
        "id": "4cfe230f-80ba-46d4-a8b8-e74c281a0010",
        "outputId": "1df17848-2509-4ef4-9249-17528e09975c"
      },
      "outputs": [
        {
          "data": {
            "text/plain": [
              "Date                     0.000000\n",
              "Time                     0.000000\n",
              "Global_active_power      1.251844\n",
              "Global_reactive_power    1.251844\n",
              "Voltage                  1.251844\n",
              "Global_intensity         1.251844\n",
              "Sub_metering_1           1.251844\n",
              "Sub_metering_2           1.251844\n",
              "Sub_metering_3           1.251844\n",
              "dtype: float64"
            ]
          },
          "execution_count": 78,
          "metadata": {},
          "output_type": "execute_result"
        }
      ],
      "source": [
        "null_percentage = (df.isnull().sum() / len(df)) * 100\n",
        "null_percentage"
      ]
    },
    {
      "cell_type": "markdown",
      "id": "abe2764d-c7bd-4df4-b10e-f7cd18649fc6",
      "metadata": {
        "id": "abe2764d-c7bd-4df4-b10e-f7cd18649fc6"
      },
      "source": [
        "### **Handling null values**"
      ]
    },
    {
      "cell_type": "markdown",
      "id": "efbfd6f1-ee1e-45b6-b469-3eaf3a03309e",
      "metadata": {
        "id": "efbfd6f1-ee1e-45b6-b469-3eaf3a03309e"
      },
      "source": [
        "###  Fill with a fixed value 0  "
      ]
    },
    {
      "cell_type": "code",
      "execution_count": null,
      "id": "ea7c608e-3653-46db-96d4-4c04d38dbd57",
      "metadata": {
        "id": "ea7c608e-3653-46db-96d4-4c04d38dbd57",
        "outputId": "56c35999-c99a-4eba-e477-52db31ce82e9"
      },
      "outputs": [
        {
          "data": {
            "text/html": [
              "<div>\n",
              "<style scoped>\n",
              "    .dataframe tbody tr th:only-of-type {\n",
              "        vertical-align: middle;\n",
              "    }\n",
              "\n",
              "    .dataframe tbody tr th {\n",
              "        vertical-align: top;\n",
              "    }\n",
              "\n",
              "    .dataframe thead th {\n",
              "        text-align: right;\n",
              "    }\n",
              "</style>\n",
              "<table border=\"1\" class=\"dataframe\">\n",
              "  <thead>\n",
              "    <tr style=\"text-align: right;\">\n",
              "      <th></th>\n",
              "      <th>Date</th>\n",
              "      <th>Time</th>\n",
              "      <th>Global_active_power</th>\n",
              "      <th>Global_reactive_power</th>\n",
              "      <th>Voltage</th>\n",
              "      <th>Global_intensity</th>\n",
              "      <th>Sub_metering_1</th>\n",
              "      <th>Sub_metering_2</th>\n",
              "      <th>Sub_metering_3</th>\n",
              "    </tr>\n",
              "  </thead>\n",
              "  <tbody>\n",
              "    <tr>\n",
              "      <th>0</th>\n",
              "      <td>16/12/2006</td>\n",
              "      <td>17:24:00</td>\n",
              "      <td>4.216</td>\n",
              "      <td>0.418</td>\n",
              "      <td>234.84</td>\n",
              "      <td>18.4</td>\n",
              "      <td>0.0</td>\n",
              "      <td>1.0</td>\n",
              "      <td>17.0</td>\n",
              "    </tr>\n",
              "    <tr>\n",
              "      <th>1</th>\n",
              "      <td>16/12/2006</td>\n",
              "      <td>17:25:00</td>\n",
              "      <td>5.360</td>\n",
              "      <td>0.436</td>\n",
              "      <td>233.63</td>\n",
              "      <td>23.0</td>\n",
              "      <td>0.0</td>\n",
              "      <td>1.0</td>\n",
              "      <td>16.0</td>\n",
              "    </tr>\n",
              "    <tr>\n",
              "      <th>2</th>\n",
              "      <td>16/12/2006</td>\n",
              "      <td>17:26:00</td>\n",
              "      <td>5.374</td>\n",
              "      <td>0.498</td>\n",
              "      <td>233.29</td>\n",
              "      <td>23.0</td>\n",
              "      <td>0.0</td>\n",
              "      <td>2.0</td>\n",
              "      <td>17.0</td>\n",
              "    </tr>\n",
              "    <tr>\n",
              "      <th>3</th>\n",
              "      <td>16/12/2006</td>\n",
              "      <td>17:27:00</td>\n",
              "      <td>5.388</td>\n",
              "      <td>0.502</td>\n",
              "      <td>233.74</td>\n",
              "      <td>23.0</td>\n",
              "      <td>0.0</td>\n",
              "      <td>1.0</td>\n",
              "      <td>17.0</td>\n",
              "    </tr>\n",
              "    <tr>\n",
              "      <th>4</th>\n",
              "      <td>16/12/2006</td>\n",
              "      <td>17:28:00</td>\n",
              "      <td>3.666</td>\n",
              "      <td>0.528</td>\n",
              "      <td>235.68</td>\n",
              "      <td>15.8</td>\n",
              "      <td>0.0</td>\n",
              "      <td>1.0</td>\n",
              "      <td>17.0</td>\n",
              "    </tr>\n",
              "    <tr>\n",
              "      <th>...</th>\n",
              "      <td>...</td>\n",
              "      <td>...</td>\n",
              "      <td>...</td>\n",
              "      <td>...</td>\n",
              "      <td>...</td>\n",
              "      <td>...</td>\n",
              "      <td>...</td>\n",
              "      <td>...</td>\n",
              "      <td>...</td>\n",
              "    </tr>\n",
              "    <tr>\n",
              "      <th>2075254</th>\n",
              "      <td>26/11/2010</td>\n",
              "      <td>20:58:00</td>\n",
              "      <td>0.946</td>\n",
              "      <td>0.000</td>\n",
              "      <td>240.43</td>\n",
              "      <td>4.0</td>\n",
              "      <td>0.0</td>\n",
              "      <td>0.0</td>\n",
              "      <td>0.0</td>\n",
              "    </tr>\n",
              "    <tr>\n",
              "      <th>2075255</th>\n",
              "      <td>26/11/2010</td>\n",
              "      <td>20:59:00</td>\n",
              "      <td>0.944</td>\n",
              "      <td>0.000</td>\n",
              "      <td>240.00</td>\n",
              "      <td>4.0</td>\n",
              "      <td>0.0</td>\n",
              "      <td>0.0</td>\n",
              "      <td>0.0</td>\n",
              "    </tr>\n",
              "    <tr>\n",
              "      <th>2075256</th>\n",
              "      <td>26/11/2010</td>\n",
              "      <td>21:00:00</td>\n",
              "      <td>0.938</td>\n",
              "      <td>0.000</td>\n",
              "      <td>239.82</td>\n",
              "      <td>3.8</td>\n",
              "      <td>0.0</td>\n",
              "      <td>0.0</td>\n",
              "      <td>0.0</td>\n",
              "    </tr>\n",
              "    <tr>\n",
              "      <th>2075257</th>\n",
              "      <td>26/11/2010</td>\n",
              "      <td>21:01:00</td>\n",
              "      <td>0.934</td>\n",
              "      <td>0.000</td>\n",
              "      <td>239.70</td>\n",
              "      <td>3.8</td>\n",
              "      <td>0.0</td>\n",
              "      <td>0.0</td>\n",
              "      <td>0.0</td>\n",
              "    </tr>\n",
              "    <tr>\n",
              "      <th>2075258</th>\n",
              "      <td>26/11/2010</td>\n",
              "      <td>21:02:00</td>\n",
              "      <td>0.932</td>\n",
              "      <td>0.000</td>\n",
              "      <td>239.55</td>\n",
              "      <td>3.8</td>\n",
              "      <td>0.0</td>\n",
              "      <td>0.0</td>\n",
              "      <td>0.0</td>\n",
              "    </tr>\n",
              "  </tbody>\n",
              "</table>\n",
              "<p>2075259 rows × 9 columns</p>\n",
              "</div>"
            ],
            "text/plain": [
              "               Date      Time  Global_active_power  Global_reactive_power  \\\n",
              "0        16/12/2006  17:24:00                4.216                  0.418   \n",
              "1        16/12/2006  17:25:00                5.360                  0.436   \n",
              "2        16/12/2006  17:26:00                5.374                  0.498   \n",
              "3        16/12/2006  17:27:00                5.388                  0.502   \n",
              "4        16/12/2006  17:28:00                3.666                  0.528   \n",
              "...             ...       ...                  ...                    ...   \n",
              "2075254  26/11/2010  20:58:00                0.946                  0.000   \n",
              "2075255  26/11/2010  20:59:00                0.944                  0.000   \n",
              "2075256  26/11/2010  21:00:00                0.938                  0.000   \n",
              "2075257  26/11/2010  21:01:00                0.934                  0.000   \n",
              "2075258  26/11/2010  21:02:00                0.932                  0.000   \n",
              "\n",
              "         Voltage  Global_intensity  Sub_metering_1  Sub_metering_2  \\\n",
              "0         234.84              18.4             0.0             1.0   \n",
              "1         233.63              23.0             0.0             1.0   \n",
              "2         233.29              23.0             0.0             2.0   \n",
              "3         233.74              23.0             0.0             1.0   \n",
              "4         235.68              15.8             0.0             1.0   \n",
              "...          ...               ...             ...             ...   \n",
              "2075254   240.43               4.0             0.0             0.0   \n",
              "2075255   240.00               4.0             0.0             0.0   \n",
              "2075256   239.82               3.8             0.0             0.0   \n",
              "2075257   239.70               3.8             0.0             0.0   \n",
              "2075258   239.55               3.8             0.0             0.0   \n",
              "\n",
              "         Sub_metering_3  \n",
              "0                  17.0  \n",
              "1                  16.0  \n",
              "2                  17.0  \n",
              "3                  17.0  \n",
              "4                  17.0  \n",
              "...                 ...  \n",
              "2075254             0.0  \n",
              "2075255             0.0  \n",
              "2075256             0.0  \n",
              "2075257             0.0  \n",
              "2075258             0.0  \n",
              "\n",
              "[2075259 rows x 9 columns]"
            ]
          },
          "execution_count": 79,
          "metadata": {},
          "output_type": "execute_result"
        }
      ],
      "source": [
        "df.fillna(0)\n"
      ]
    },
    {
      "cell_type": "markdown",
      "id": "be1a5853-d1c7-4f43-a14f-1c9a0487771b",
      "metadata": {
        "id": "be1a5853-d1c7-4f43-a14f-1c9a0487771b"
      },
      "source": [
        "### Fill with the column's mean"
      ]
    },
    {
      "cell_type": "markdown",
      "id": "e6c902e9-79c1-4868-b0fe-f491ee190a38",
      "metadata": {
        "id": "e6c902e9-79c1-4868-b0fe-f491ee190a38"
      },
      "source": [
        "choosing mean method to fill nan values"
      ]
    },
    {
      "cell_type": "code",
      "execution_count": null,
      "id": "ee380a8a-54e5-4ba6-b68d-bfb033b1c731",
      "metadata": {
        "id": "ee380a8a-54e5-4ba6-b68d-bfb033b1c731",
        "outputId": "84841264-6865-4237-a32b-cbcaa7cea1c7"
      },
      "outputs": [
        {
          "data": {
            "text/html": [
              "<div>\n",
              "<style scoped>\n",
              "    .dataframe tbody tr th:only-of-type {\n",
              "        vertical-align: middle;\n",
              "    }\n",
              "\n",
              "    .dataframe tbody tr th {\n",
              "        vertical-align: top;\n",
              "    }\n",
              "\n",
              "    .dataframe thead th {\n",
              "        text-align: right;\n",
              "    }\n",
              "</style>\n",
              "<table border=\"1\" class=\"dataframe\">\n",
              "  <thead>\n",
              "    <tr style=\"text-align: right;\">\n",
              "      <th></th>\n",
              "      <th>Date</th>\n",
              "      <th>Time</th>\n",
              "      <th>Global_active_power</th>\n",
              "      <th>Global_reactive_power</th>\n",
              "      <th>Voltage</th>\n",
              "      <th>Global_intensity</th>\n",
              "      <th>Sub_metering_1</th>\n",
              "      <th>Sub_metering_2</th>\n",
              "      <th>Sub_metering_3</th>\n",
              "    </tr>\n",
              "  </thead>\n",
              "  <tbody>\n",
              "    <tr>\n",
              "      <th>0</th>\n",
              "      <td>16/12/2006</td>\n",
              "      <td>17:24:00</td>\n",
              "      <td>4.216</td>\n",
              "      <td>0.418</td>\n",
              "      <td>234.84</td>\n",
              "      <td>18.4</td>\n",
              "      <td>0.0</td>\n",
              "      <td>1.0</td>\n",
              "      <td>17.0</td>\n",
              "    </tr>\n",
              "    <tr>\n",
              "      <th>1</th>\n",
              "      <td>16/12/2006</td>\n",
              "      <td>17:25:00</td>\n",
              "      <td>5.360</td>\n",
              "      <td>0.436</td>\n",
              "      <td>233.63</td>\n",
              "      <td>23.0</td>\n",
              "      <td>0.0</td>\n",
              "      <td>1.0</td>\n",
              "      <td>16.0</td>\n",
              "    </tr>\n",
              "    <tr>\n",
              "      <th>2</th>\n",
              "      <td>16/12/2006</td>\n",
              "      <td>17:26:00</td>\n",
              "      <td>5.374</td>\n",
              "      <td>0.498</td>\n",
              "      <td>233.29</td>\n",
              "      <td>23.0</td>\n",
              "      <td>0.0</td>\n",
              "      <td>2.0</td>\n",
              "      <td>17.0</td>\n",
              "    </tr>\n",
              "    <tr>\n",
              "      <th>3</th>\n",
              "      <td>16/12/2006</td>\n",
              "      <td>17:27:00</td>\n",
              "      <td>5.388</td>\n",
              "      <td>0.502</td>\n",
              "      <td>233.74</td>\n",
              "      <td>23.0</td>\n",
              "      <td>0.0</td>\n",
              "      <td>1.0</td>\n",
              "      <td>17.0</td>\n",
              "    </tr>\n",
              "    <tr>\n",
              "      <th>4</th>\n",
              "      <td>16/12/2006</td>\n",
              "      <td>17:28:00</td>\n",
              "      <td>3.666</td>\n",
              "      <td>0.528</td>\n",
              "      <td>235.68</td>\n",
              "      <td>15.8</td>\n",
              "      <td>0.0</td>\n",
              "      <td>1.0</td>\n",
              "      <td>17.0</td>\n",
              "    </tr>\n",
              "    <tr>\n",
              "      <th>...</th>\n",
              "      <td>...</td>\n",
              "      <td>...</td>\n",
              "      <td>...</td>\n",
              "      <td>...</td>\n",
              "      <td>...</td>\n",
              "      <td>...</td>\n",
              "      <td>...</td>\n",
              "      <td>...</td>\n",
              "      <td>...</td>\n",
              "    </tr>\n",
              "    <tr>\n",
              "      <th>2075254</th>\n",
              "      <td>26/11/2010</td>\n",
              "      <td>20:58:00</td>\n",
              "      <td>0.946</td>\n",
              "      <td>0.000</td>\n",
              "      <td>240.43</td>\n",
              "      <td>4.0</td>\n",
              "      <td>0.0</td>\n",
              "      <td>0.0</td>\n",
              "      <td>0.0</td>\n",
              "    </tr>\n",
              "    <tr>\n",
              "      <th>2075255</th>\n",
              "      <td>26/11/2010</td>\n",
              "      <td>20:59:00</td>\n",
              "      <td>0.944</td>\n",
              "      <td>0.000</td>\n",
              "      <td>240.00</td>\n",
              "      <td>4.0</td>\n",
              "      <td>0.0</td>\n",
              "      <td>0.0</td>\n",
              "      <td>0.0</td>\n",
              "    </tr>\n",
              "    <tr>\n",
              "      <th>2075256</th>\n",
              "      <td>26/11/2010</td>\n",
              "      <td>21:00:00</td>\n",
              "      <td>0.938</td>\n",
              "      <td>0.000</td>\n",
              "      <td>239.82</td>\n",
              "      <td>3.8</td>\n",
              "      <td>0.0</td>\n",
              "      <td>0.0</td>\n",
              "      <td>0.0</td>\n",
              "    </tr>\n",
              "    <tr>\n",
              "      <th>2075257</th>\n",
              "      <td>26/11/2010</td>\n",
              "      <td>21:01:00</td>\n",
              "      <td>0.934</td>\n",
              "      <td>0.000</td>\n",
              "      <td>239.70</td>\n",
              "      <td>3.8</td>\n",
              "      <td>0.0</td>\n",
              "      <td>0.0</td>\n",
              "      <td>0.0</td>\n",
              "    </tr>\n",
              "    <tr>\n",
              "      <th>2075258</th>\n",
              "      <td>26/11/2010</td>\n",
              "      <td>21:02:00</td>\n",
              "      <td>0.932</td>\n",
              "      <td>0.000</td>\n",
              "      <td>239.55</td>\n",
              "      <td>3.8</td>\n",
              "      <td>0.0</td>\n",
              "      <td>0.0</td>\n",
              "      <td>0.0</td>\n",
              "    </tr>\n",
              "  </tbody>\n",
              "</table>\n",
              "<p>2075259 rows × 9 columns</p>\n",
              "</div>"
            ],
            "text/plain": [
              "               Date      Time  Global_active_power  Global_reactive_power  \\\n",
              "0        16/12/2006  17:24:00                4.216                  0.418   \n",
              "1        16/12/2006  17:25:00                5.360                  0.436   \n",
              "2        16/12/2006  17:26:00                5.374                  0.498   \n",
              "3        16/12/2006  17:27:00                5.388                  0.502   \n",
              "4        16/12/2006  17:28:00                3.666                  0.528   \n",
              "...             ...       ...                  ...                    ...   \n",
              "2075254  26/11/2010  20:58:00                0.946                  0.000   \n",
              "2075255  26/11/2010  20:59:00                0.944                  0.000   \n",
              "2075256  26/11/2010  21:00:00                0.938                  0.000   \n",
              "2075257  26/11/2010  21:01:00                0.934                  0.000   \n",
              "2075258  26/11/2010  21:02:00                0.932                  0.000   \n",
              "\n",
              "         Voltage  Global_intensity  Sub_metering_1  Sub_metering_2  \\\n",
              "0         234.84              18.4             0.0             1.0   \n",
              "1         233.63              23.0             0.0             1.0   \n",
              "2         233.29              23.0             0.0             2.0   \n",
              "3         233.74              23.0             0.0             1.0   \n",
              "4         235.68              15.8             0.0             1.0   \n",
              "...          ...               ...             ...             ...   \n",
              "2075254   240.43               4.0             0.0             0.0   \n",
              "2075255   240.00               4.0             0.0             0.0   \n",
              "2075256   239.82               3.8             0.0             0.0   \n",
              "2075257   239.70               3.8             0.0             0.0   \n",
              "2075258   239.55               3.8             0.0             0.0   \n",
              "\n",
              "         Sub_metering_3  \n",
              "0                  17.0  \n",
              "1                  16.0  \n",
              "2                  17.0  \n",
              "3                  17.0  \n",
              "4                  17.0  \n",
              "...                 ...  \n",
              "2075254             0.0  \n",
              "2075255             0.0  \n",
              "2075256             0.0  \n",
              "2075257             0.0  \n",
              "2075258             0.0  \n",
              "\n",
              "[2075259 rows x 9 columns]"
            ]
          },
          "execution_count": 80,
          "metadata": {},
          "output_type": "execute_result"
        }
      ],
      "source": [
        "df['Sub_metering_3'].fillna(df['Sub_metering_3'].mean(), inplace=True)\n",
        "df['Global_reactive_power'].fillna(df['Global_reactive_power'].mean(), inplace=True)\n",
        "df['Global_active_power'].fillna(df['Global_active_power'].mean(), inplace=True)\n",
        "df['Voltage'].fillna(df['Voltage'].mean(), inplace=True)\n",
        "df['Global_intensity'].fillna(df['Global_intensity'].mean(), inplace=True)\n",
        "df['Sub_metering_1'].fillna(df['Sub_metering_1'].mean(), inplace=True)\n",
        "df['Sub_metering_2'].fillna(df['Sub_metering_2'].mean(), inplace=True)\n",
        "\n",
        "df"
      ]
    }
  ],
  "metadata": {
    "kernelspec": {
      "display_name": "Python 3 (ipykernel)",
      "language": "python",
      "name": "python3"
    },
    "language_info": {
      "codemirror_mode": {
        "name": "ipython",
        "version": 3
      },
      "file_extension": ".py",
      "mimetype": "text/x-python",
      "name": "python",
      "nbconvert_exporter": "python",
      "pygments_lexer": "ipython3",
      "version": "3.11.7"
    },
    "colab": {
      "provenance": []
    }
  },
  "nbformat": 4,
  "nbformat_minor": 5
}